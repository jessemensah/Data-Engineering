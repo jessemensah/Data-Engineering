{
 "cells": [
  {
   "cell_type": "code",
   "execution_count": 2,
   "metadata": {},
   "outputs": [],
   "source": [
    "# NUMPYSCRIPT \n",
    "# Numpy is the most fundamental "
   ]
  },
  {
   "cell_type": "code",
   "execution_count": 3,
   "metadata": {},
   "outputs": [],
   "source": [
    "import numpy as np "
   ]
  },
  {
   "cell_type": "code",
   "execution_count": 16,
   "metadata": {},
   "outputs": [
    {
     "name": "stdout",
     "output_type": "stream",
     "text": [
      "[1 2 3]\n",
      "The type is  <class 'numpy.ndarray'>\n",
      "The shape is  (3,)\n",
      "Total size is  3\n",
      "The dimension of our array is  1\n",
      "The data type of elements is  int64\n",
      "It consumes  24 bytes\n"
     ]
    }
   ],
   "source": [
    "x = np.array([1,2,3])\n",
    "print(x) \n",
    "\n",
    "# check for the type \n",
    "print(\"The type is \", type(x)) \n",
    "\n",
    "# check the shape of the array \n",
    "print(\"The shape is \", x.shape) # three elements arranged in a one dimensional array \n",
    "\n",
    "# Check the size \n",
    "print(\"Total size is \", x.size) \n",
    "\n",
    "# What is the dimension of the array \n",
    "print(\"The dimension of our array is \", x.ndim) \n",
    "\n",
    "# what is the data type \n",
    "print(\"The data type of elements is \", x.dtype) \n",
    "\n",
    "# what is the memory consumption \n",
    "print(\"It consumes \", x.nbytes, \"bytes\") "
   ]
  },
  {
   "cell_type": "code",
   "execution_count": 18,
   "metadata": {},
   "outputs": [
    {
     "name": "stdout",
     "output_type": "stream",
     "text": [
      "[[1 2 3]\n",
      " [4 5 6]]\n",
      "The type is  <class 'numpy.ndarray'>\n",
      "The shape is  (2, 3)\n",
      "Total size is  6\n",
      "The dimension of our array is  2\n",
      "The data type of elements is  int64\n",
      "It consumes  48 bytes\n"
     ]
    }
   ],
   "source": [
    "x = np.array([[1,2,3], [4, 5, 6]])\n",
    "print(x) \n",
    "\n",
    "# check for the type \n",
    "print(\"The type is \", type(x)) \n",
    "\n",
    "# check the shape of the array \n",
    "print(\"The shape is \", x.shape) # three elements arranged in a one dimensional array \n",
    "\n",
    "# Check the size \n",
    "print(\"Total size is \", x.size) \n",
    "\n",
    "# What is the dimension of the array \n",
    "print(\"The dimension of our array is \", x.ndim) \n",
    "\n",
    "# what is the data type \n",
    "print(\"The data type of elements is \", x.dtype) \n",
    "\n",
    "# what is the memory consumption \n",
    "print(\"It consumes \", x.nbytes, \"bytes\") "
   ]
  },
  {
   "cell_type": "code",
   "execution_count": 42,
   "metadata": {},
   "outputs": [
    {
     "name": "stdout",
     "output_type": "stream",
     "text": [
      "[[1. 2. 3.]\n",
      " [4. 5. 6.]]\n",
      "[[1.+0.j 2.+0.j 3.+0.j]\n",
      " [4.+0.j 5.+0.j 6.+0.j]]\n",
      "[[ 1  2  3]\n",
      " [ 4 -5  6]]\n",
      "48\n"
     ]
    }
   ],
   "source": [
    "# We can switch data types to float, complex and unit \n",
    "\n",
    "a = np.array([[1, 2, 3], [4, 5, 6]], dtype = np.float64) \n",
    "print(a) \n",
    "\n",
    "b =  np.array([[1,2,3],[4,5,6]], dtype = np.complex128)\n",
    "print(b) \n",
    "\n",
    "c = np.array([[1, 2, 3], [4, -5, 6]], dtype=np.int64)\n",
    "print(c) \n",
    "print(c.nbytes) \n"
   ]
  },
  {
   "cell_type": "code",
   "execution_count": null,
   "metadata": {},
   "outputs": [],
   "source": [
    "# NUMPY ARRAYS OPERATIONS "
   ]
  }
 ],
 "metadata": {
  "kernelspec": {
   "display_name": "base",
   "language": "python",
   "name": "python3"
  },
  "language_info": {
   "codemirror_mode": {
    "name": "ipython",
    "version": 3
   },
   "file_extension": ".py",
   "mimetype": "text/x-python",
   "name": "python",
   "nbconvert_exporter": "python",
   "pygments_lexer": "ipython3",
   "version": "3.10.9"
  },
  "orig_nbformat": 4
 },
 "nbformat": 4,
 "nbformat_minor": 2
}
